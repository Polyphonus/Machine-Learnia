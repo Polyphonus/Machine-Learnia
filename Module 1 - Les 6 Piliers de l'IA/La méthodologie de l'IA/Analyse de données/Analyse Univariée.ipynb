{
 "cells": [
  {
   "cell_type": "code",
   "id": "initial_id",
   "metadata": {
    "collapsed": true,
    "ExecuteTime": {
     "end_time": "2024-10-16T19:52:59.777297Z",
     "start_time": "2024-10-16T19:52:59.768398Z"
    }
   },
   "source": [
    "import pandas as pd\n",
    "import matplotlib\n",
    "import matplotlib.pyplot as plt\n",
    "import seaborn as sns\n",
    "\n",
    "print(pd.__version__)\n",
    "print(matplotlib.__version__)\n",
    "print(sns.__version__)"
   ],
   "outputs": [
    {
     "name": "stdout",
     "output_type": "stream",
     "text": [
      "2.2.3\n",
      "3.9.2\n",
      "0.13.2\n"
     ]
    }
   ],
   "execution_count": 1
  },
  {
   "metadata": {
    "ExecuteTime": {
     "end_time": "2024-10-16T19:53:54.141455Z",
     "start_time": "2024-10-16T19:53:53.797565Z"
    }
   },
   "cell_type": "code",
   "source": [
    "df = sns.load_dataset('tips')\n",
    "df.head()"
   ],
   "id": "373699a49e445b0d",
   "outputs": [
    {
     "data": {
      "text/plain": [
       "   total_bill   tip     sex smoker  day    time  size\n",
       "0       16.99  1.01  Female     No  Sun  Dinner     2\n",
       "1       10.34  1.66    Male     No  Sun  Dinner     3\n",
       "2       21.01  3.50    Male     No  Sun  Dinner     3\n",
       "3       23.68  3.31    Male     No  Sun  Dinner     2\n",
       "4       24.59  3.61  Female     No  Sun  Dinner     4"
      ],
      "text/html": [
       "<div>\n",
       "<style scoped>\n",
       "    .dataframe tbody tr th:only-of-type {\n",
       "        vertical-align: middle;\n",
       "    }\n",
       "\n",
       "    .dataframe tbody tr th {\n",
       "        vertical-align: top;\n",
       "    }\n",
       "\n",
       "    .dataframe thead th {\n",
       "        text-align: right;\n",
       "    }\n",
       "</style>\n",
       "<table border=\"1\" class=\"dataframe\">\n",
       "  <thead>\n",
       "    <tr style=\"text-align: right;\">\n",
       "      <th></th>\n",
       "      <th>total_bill</th>\n",
       "      <th>tip</th>\n",
       "      <th>sex</th>\n",
       "      <th>smoker</th>\n",
       "      <th>day</th>\n",
       "      <th>time</th>\n",
       "      <th>size</th>\n",
       "    </tr>\n",
       "  </thead>\n",
       "  <tbody>\n",
       "    <tr>\n",
       "      <th>0</th>\n",
       "      <td>16.99</td>\n",
       "      <td>1.01</td>\n",
       "      <td>Female</td>\n",
       "      <td>No</td>\n",
       "      <td>Sun</td>\n",
       "      <td>Dinner</td>\n",
       "      <td>2</td>\n",
       "    </tr>\n",
       "    <tr>\n",
       "      <th>1</th>\n",
       "      <td>10.34</td>\n",
       "      <td>1.66</td>\n",
       "      <td>Male</td>\n",
       "      <td>No</td>\n",
       "      <td>Sun</td>\n",
       "      <td>Dinner</td>\n",
       "      <td>3</td>\n",
       "    </tr>\n",
       "    <tr>\n",
       "      <th>2</th>\n",
       "      <td>21.01</td>\n",
       "      <td>3.50</td>\n",
       "      <td>Male</td>\n",
       "      <td>No</td>\n",
       "      <td>Sun</td>\n",
       "      <td>Dinner</td>\n",
       "      <td>3</td>\n",
       "    </tr>\n",
       "    <tr>\n",
       "      <th>3</th>\n",
       "      <td>23.68</td>\n",
       "      <td>3.31</td>\n",
       "      <td>Male</td>\n",
       "      <td>No</td>\n",
       "      <td>Sun</td>\n",
       "      <td>Dinner</td>\n",
       "      <td>2</td>\n",
       "    </tr>\n",
       "    <tr>\n",
       "      <th>4</th>\n",
       "      <td>24.59</td>\n",
       "      <td>3.61</td>\n",
       "      <td>Female</td>\n",
       "      <td>No</td>\n",
       "      <td>Sun</td>\n",
       "      <td>Dinner</td>\n",
       "      <td>4</td>\n",
       "    </tr>\n",
       "  </tbody>\n",
       "</table>\n",
       "</div>"
      ]
     },
     "execution_count": 2,
     "metadata": {},
     "output_type": "execute_result"
    }
   ],
   "execution_count": 2
  },
  {
   "metadata": {
    "ExecuteTime": {
     "end_time": "2024-10-16T19:54:43.972944Z",
     "start_time": "2024-10-16T19:54:43.968781Z"
    }
   },
   "cell_type": "code",
   "source": "df['sex'].value_counts()",
   "id": "466e441f3f639903",
   "outputs": [
    {
     "data": {
      "text/plain": [
       "sex\n",
       "Male      157\n",
       "Female     87\n",
       "Name: count, dtype: int64"
      ]
     },
     "execution_count": 3,
     "metadata": {},
     "output_type": "execute_result"
    }
   ],
   "execution_count": 3
  },
  {
   "metadata": {
    "ExecuteTime": {
     "end_time": "2024-10-16T19:56:38.123843Z",
     "start_time": "2024-10-16T19:56:38.003916Z"
    }
   },
   "cell_type": "code",
   "source": [
    "df[\"sex\"].value_counts().plot(kind='bar')\n",
    "plt.show()"
   ],
   "id": "59d9e68b0cdda363",
   "outputs": [
    {
     "data": {
      "text/plain": [
       "<Axes: xlabel='sex'>"
      ]
     },
     "execution_count": 4,
     "metadata": {},
     "output_type": "execute_result"
    },
    {
     "data": {
      "text/plain": [
       "<Figure size 640x480 with 1 Axes>"
      ],
      "image/png": "[encoded data removed]"
     },
     "metadata": {},
     "output_type": "display_data"
    }
   ],
   "execution_count": 4
  },
  {
   "metadata": {
    "ExecuteTime": {
     "end_time": "2024-10-16T19:57:23.544544Z",
     "start_time": "2024-10-16T19:57:23.459802Z"
    }
   },
   "cell_type": "code",
   "source": [
    "sns.countplot(data=df,x='sex')\n",
    "plt.show()"
   ],
   "id": "5e9be34ba7391f32",
   "outputs": [
    {
     "data": {
      "text/plain": [
       "<Figure size 640x480 with 1 Axes>"
      ],
      "image/png": "[encoded data removed]"
     },
     "metadata": {},
     "output_type": "display_data"
    }
   ],
   "execution_count": 6
  },
  {
   "metadata": {
    "ExecuteTime": {
     "end_time": "2024-10-16T20:02:00.569977Z",
     "start_time": "2024-10-16T20:02:00.563815Z"
    }
   },
   "cell_type": "code",
   "source": "df['tip'].mean().item()",
   "id": "3a92a5922be0cec0",
   "outputs": [
    {
     "data": {
      "text/plain": [
       "2.99827868852459"
      ]
     },
     "execution_count": 20,
     "metadata": {},
     "output_type": "execute_result"
    }
   ],
   "execution_count": 20
  },
  {
   "metadata": {
    "ExecuteTime": {
     "end_time": "2024-10-16T20:02:30.014813Z",
     "start_time": "2024-10-16T20:02:30.007902Z"
    }
   },
   "cell_type": "code",
   "source": "df['tip'].median().item()",
   "id": "aad135600007832b",
   "outputs": [
    {
     "data": {
      "text/plain": [
       "2.9"
      ]
     },
     "execution_count": 21,
     "metadata": {},
     "output_type": "execute_result"
    }
   ],
   "execution_count": 21
  },
  {
   "metadata": {
    "ExecuteTime": {
     "end_time": "2024-10-16T20:02:50.308613Z",
     "start_time": "2024-10-16T20:02:50.301631Z"
    }
   },
   "cell_type": "code",
   "source": "df['tip'].var().item()",
   "id": "f17ce9ccae122975",
   "outputs": [
    {
     "data": {
      "text/plain": [
       "1.914454638062471"
      ]
     },
     "execution_count": 22,
     "metadata": {},
     "output_type": "execute_result"
    }
   ],
   "execution_count": 22
  },
  {
   "metadata": {
    "ExecuteTime": {
     "end_time": "2024-10-16T20:03:02.060818Z",
     "start_time": "2024-10-16T20:03:02.057939Z"
    }
   },
   "cell_type": "code",
   "source": "df['tip'].std().item() ",
   "id": "41abf6dd6452d3d2",
   "outputs": [
    {
     "data": {
      "text/plain": [
       "1.3836381890011822"
      ]
     },
     "execution_count": 23,
     "metadata": {},
     "output_type": "execute_result"
    }
   ],
   "execution_count": 23
  },
  {
   "metadata": {
    "ExecuteTime": {
     "end_time": "2024-10-16T20:03:40.284931Z",
     "start_time": "2024-10-16T20:03:40.279529Z"
    }
   },
   "cell_type": "code",
   "source": "df['tip'].min().item()",
   "id": "b54526680ea221fd",
   "outputs": [
    {
     "data": {
      "text/plain": [
       "1.0"
      ]
     },
     "execution_count": 24,
     "metadata": {},
     "output_type": "execute_result"
    }
   ],
   "execution_count": 24
  },
  {
   "metadata": {
    "ExecuteTime": {
     "end_time": "2024-10-16T20:03:47.154892Z",
     "start_time": "2024-10-16T20:03:47.148676Z"
    }
   },
   "cell_type": "code",
   "source": "df['tip'].max().item()",
   "id": "ade549d416af216",
   "outputs": [
    {
     "data": {
      "text/plain": [
       "10.0"
      ]
     },
     "execution_count": 25,
     "metadata": {},
     "output_type": "execute_result"
    }
   ],
   "execution_count": 25
  },
  {
   "metadata": {
    "ExecuteTime": {
     "end_time": "2024-10-16T20:03:58.314026Z",
     "start_time": "2024-10-16T20:03:58.304208Z"
    }
   },
   "cell_type": "code",
   "source": "df['tip'].describe()",
   "id": "d0c8bf50a19606a7",
   "outputs": [
    {
     "data": {
      "text/plain": [
       "count    244.000000\n",
       "mean       2.998279\n",
       "std        1.383638\n",
       "min        1.000000\n",
       "25%        2.000000\n",
       "50%        2.900000\n",
       "75%        3.562500\n",
       "max       10.000000\n",
       "Name: tip, dtype: float64"
      ]
     },
     "execution_count": 26,
     "metadata": {},
     "output_type": "execute_result"
    }
   ],
   "execution_count": 26
  },
  {
   "metadata": {
    "ExecuteTime": {
     "end_time": "2024-10-16T20:04:27.928914Z",
     "start_time": "2024-10-16T20:04:27.816733Z"
    }
   },
   "cell_type": "code",
   "source": "df['tip'].plot(kind='hist',bins=20)",
   "id": "d02abe1a84285e7",
   "outputs": [
    {
     "data": {
      "text/plain": [
       "<Axes: ylabel='Frequency'>"
      ]
     },
     "execution_count": 29,
     "metadata": {},
     "output_type": "execute_result"
    },
    {
     "data": {
      "text/plain": [
       "<Figure size 640x480 with 1 Axes>"
      ],
      "image/png": "[encoded data removed]"
     },
     "metadata": {},
     "output_type": "display_data"
    }
   ],
   "execution_count": 29
  },
  {
   "metadata": {},
   "cell_type": "markdown",
   "source": "",
   "id": "335ccd06bf56eee0"
  },
  {
   "metadata": {
    "ExecuteTime": {
     "end_time": "2024-10-16T20:07:03.014593Z",
     "start_time": "2024-10-16T20:07:02.894461Z"
    }
   },
   "cell_type": "code",
   "source": "sns.histplot(data = df, x='tip', bins=10)",
   "id": "d271b66eca58773d",
   "outputs": [
    {
     "data": {
      "text/plain": [
       "<Axes: xlabel='tip', ylabel='Count'>"
      ]
     },
     "execution_count": 37,
     "metadata": {},
     "output_type": "execute_result"
    },
    {
     "data": {
      "text/plain": [
       "<Figure size 640x480 with 1 Axes>"
      ],
      "image/png": "[encoded data removed]"
     },
     "metadata": {},
     "output_type": "display_data"
    }
   ],
   "execution_count": 37
  },
  {
   "metadata": {
    "ExecuteTime": {
     "end_time": "2024-10-16T20:04:53.685662Z",
     "start_time": "2024-10-16T20:04:53.593416Z"
    }
   },
   "cell_type": "code",
   "source": "df['tip'].plot(kind='box')",
   "id": "d8d3e41da7085e19",
   "outputs": [
    {
     "data": {
      "text/plain": [
       "<Axes: >"
      ]
     },
     "execution_count": 30,
     "metadata": {},
     "output_type": "execute_result"
    },
    {
     "data": {
      "text/plain": [
       "<Figure size 640x480 with 1 Axes>"
      ],
      "image/png": "[encoded data removed]"
     },
     "metadata": {},
     "output_type": "display_data"
    }
   ],
   "execution_count": 30
  },
  {
   "metadata": {
    "ExecuteTime": {
     "end_time": "2024-10-16T20:08:45.582154Z",
     "start_time": "2024-10-16T20:08:45.340577Z"
    }
   },
   "cell_type": "code",
   "source": "sns.catplot(data=df,x='tip',kind='box')",
   "id": "db0020290d5db7b5",
   "outputs": [
    {
     "data": {
      "text/plain": [
       "<seaborn.axisgrid.FacetGrid at 0x7f1f53df5790>"
      ]
     },
     "execution_count": 39,
     "metadata": {},
     "output_type": "execute_result"
    },
    {
     "data": {
      "text/plain": [
       "<Figure size 511.111x500 with 1 Axes>"
      ],
      "image/png": "[encoded data removed]"
     },
     "metadata": {},
     "output_type": "display_data"
    }
   ],
   "execution_count": 39
  }
 ],
 "metadata": {
  "kernelspec": {
   "display_name": "Python 3",
   "language": "python",
   "name": "python3"
  },
  "language_info": {
   "codemirror_mode": {
    "name": "ipython",
    "version": 2
   },
   "file_extension": ".py",
   "mimetype": "text/x-python",
   "name": "python",
   "nbconvert_exporter": "python",
   "pygments_lexer": "ipython2",
   "version": "2.7.6"
  }
 },
 "nbformat": 4,
 "nbformat_minor": 5
}
